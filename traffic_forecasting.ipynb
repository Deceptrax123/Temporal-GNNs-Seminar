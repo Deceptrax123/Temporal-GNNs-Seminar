{
 "cells": [
  {
   "cell_type": "code",
   "execution_count": 1,
   "metadata": {},
   "outputs": [
    {
     "name": "stderr",
     "output_type": "stream",
     "text": [
      "/Users/smudge/Desktop/Code/temporal-graph-seminar/.venv/lib/python3.9/site-packages/tqdm/auto.py:21: TqdmWarning: IProgress not found. Please update jupyter and ipywidgets. See https://ipywidgets.readthedocs.io/en/stable/user_install.html\n",
      "  from .autonotebook import tqdm as notebook_tqdm\n"
     ]
    }
   ],
   "source": [
    "#Web Traffic Prediction\n",
    "#Temporal Signals Static Graph\n",
    "import torch\n",
    "from torch_geometric_temporal.dataset import WikiMathsDatasetLoader\n",
    "from torch_geometric_temporal.signal import temporal_signal_split"
   ]
  },
  {
   "cell_type": "code",
   "execution_count": 2,
   "metadata": {},
   "outputs": [],
   "source": [
    "loader=WikiMathsDatasetLoader()\n",
    "dataset=loader.get_dataset(lags=8)\n",
    "train,test=temporal_signal_split(dataset,train_ratio=0.5)"
   ]
  },
  {
   "cell_type": "code",
   "execution_count": 3,
   "metadata": {},
   "outputs": [],
   "source": [
    "#Model\n",
    "from torch_geometric_temporal.nn.recurrent import GConvGRU\n",
    "from torch.nn import Linear\n",
    "import torch.nn.functional as F \n",
    "from torch.nn import Module\n",
    "\n",
    "#Gated Recurrent Unit\n",
    "class TemporalNetwork(Module):\n",
    "    def __init__(self,features,filters):\n",
    "        super(TemporalNetwork,self).__init__()\n",
    "\n",
    "        self.conv_gru=GConvGRU(in_channels=features,out_channels=filters,K=3,normalization='sym')\n",
    "        self.linear=Linear(in_features=filters,out_features=1)\n",
    "    \n",
    "    def forward(self,x,edge_index,edge_weight):\n",
    "        x=self.conv_gru(x,edge_index,edge_weight).relu()\n",
    "        x=self.linear(x)\n",
    "\n",
    "        return x\n"
   ]
  },
  {
   "cell_type": "code",
   "execution_count": 4,
   "metadata": {},
   "outputs": [],
   "source": [
    "#call\n",
    "from torch.optim import Adam\n",
    "from torch.nn import MSELoss\n",
    "from tqdm import tqdm\n",
    "\n",
    "model=TemporalNetwork(features=8,filters=32)\n",
    "optimizer=torch.optim.Adam(params=model.parameters(),lr=0.001,betas=(0.9,0.999))\n",
    "loss=MSELoss()"
   ]
  },
  {
   "cell_type": "code",
   "execution_count": 5,
   "metadata": {},
   "outputs": [],
   "source": [
    "#Training\n",
    "def training_loop():\n",
    "    model.train(True)\n",
    "\n",
    "    NUM_EPOCHS=50\n",
    "\n",
    "    for epoch in tqdm(range(NUM_EPOCHS)):\n",
    "        train_loss=0\n",
    "        test_loss=0\n",
    "        #Train\n",
    "        for t,snap in enumerate(train):\n",
    "            op=model(snap.x,snap.edge_index,snap.edge_weight)\n",
    "            snap_loss=loss(snap.y,op)\n",
    "\n",
    "            #training\n",
    "            model.zero_grad()\n",
    "\n",
    "            snap_loss.backward()\n",
    "            optimizer.step()\n",
    "\n",
    "            #aggregate\n",
    "            train_loss+=snap_loss.item()\n",
    "\n",
    "        #Validation\n",
    "        model.eval()\n",
    "        \n",
    "        with torch.no_grad():\n",
    "            for t,snap in enumerate(test):\n",
    "                op=model(snap.x,snap.edge_index,snap.edge_weight)\n",
    "                snap_loss=loss(snap.y,op)\n",
    "\n",
    "                test_loss+=snap_loss.item()\n",
    "        \n",
    "            print(\"Epoch: {ep}\".format(ep=epoch+1))\n",
    "            print(\"Train Loss: {l}\".format(l=train_loss/(t+1)))\n",
    "            print(\"Validation Loss: {l}\".format(l=test_loss/(t+1)))\n",
    "\n",
    "\n",
    "\n",
    "\n"
   ]
  },
  {
   "cell_type": "code",
   "execution_count": 6,
   "metadata": {},
   "outputs": [
    {
     "name": "stderr",
     "output_type": "stream",
     "text": [
      "  0%|          | 0/50 [00:00<?, ?it/s]/Users/smudge/Desktop/Code/temporal-graph-seminar/.venv/lib/python3.9/site-packages/torch/nn/modules/loss.py:536: UserWarning: Using a target size (torch.Size([1068, 1])) that is different to the input size (torch.Size([1068])). This will likely lead to incorrect results due to broadcasting. Please ensure they have the same size.\n",
      "  return F.mse_loss(input, target, reduction=self.reduction)\n",
      "  2%|▏         | 1/50 [00:15<12:28, 15.28s/it]"
     ]
    },
    {
     "name": "stdout",
     "output_type": "stream",
     "text": [
      "Epoch: 1\n",
      "Train Loss: 0.8211720646744933\n",
      "Validation Loss: 0.7429497517768849\n"
     ]
    },
    {
     "ename": "",
     "evalue": "",
     "output_type": "error",
     "traceback": [
      "\u001b[1;31mThe Kernel crashed while executing code in the current cell or a previous cell. \n",
      "\u001b[1;31mPlease review the code in the cell(s) to identify a possible cause of the failure. \n",
      "\u001b[1;31mClick <a href='https://aka.ms/vscodeJupyterKernelCrash'>here</a> for more info. \n",
      "\u001b[1;31mView Jupyter <a href='command:jupyter.viewOutput'>log</a> for further details."
     ]
    }
   ],
   "source": [
    "training_loop()"
   ]
  },
  {
   "cell_type": "code",
   "execution_count": null,
   "metadata": {},
   "outputs": [],
   "source": []
  }
 ],
 "metadata": {
  "kernelspec": {
   "display_name": ".venv",
   "language": "python",
   "name": "python3"
  },
  "language_info": {
   "codemirror_mode": {
    "name": "ipython",
    "version": 3
   },
   "file_extension": ".py",
   "mimetype": "text/x-python",
   "name": "python",
   "nbconvert_exporter": "python",
   "pygments_lexer": "ipython3",
   "version": "3.9.6"
  }
 },
 "nbformat": 4,
 "nbformat_minor": 2
}
